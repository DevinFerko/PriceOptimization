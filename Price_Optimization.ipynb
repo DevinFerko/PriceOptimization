{
 "cells": [
  {
   "cell_type": "markdown",
   "id": "07e88fc2",
   "metadata": {},
   "source": [
    "### Price Optimization Machine Learning Model\n",
    "\n",
    "##### Objective\n",
    "We want to leverage a machine learning model to help us set optimal prices, the aim would be to increase revenue and/or margin while keeping in mind market conditions and customer trust.\n",
    "\n",
    "##### Why Now?\n",
    "I believe we are now well-positioned to design a price optimization model. We have complete access to all our current and historical Brightpearl data, including the pricing information we need.\n",
    "\n",
    "##### Expected Benefits\n",
    "- Revenue Uplift: with optimized pricing we can expect improved revenue performance per product\n",
    "- Margin Protection: An optimized model could help us avoid underpricing\n",
    "- Insights: Clear understanding of demand elasticity by product & segment\n",
    "\n",
    "##### Scope\n",
    "TBC\n",
    "\n",
    "##### Data Needed\n",
    "\n",
    "- Historical prices & sales (SKU × date/time × channel)\n",
    "- Product costs\n",
    "- Inventory & stockouts\n",
    "- Promotions & discounts\n",
    "- Competitor prices ????? Is this achieveable for us\n",
    "- External demand drivers (seasonality, events)\n",
    "\n",
    "##### Resources\n",
    "\n",
    "- Tools: Data warehouse (Perceptium), Python ML stack, Tableau BI dashboard."
   ]
  },
  {
   "cell_type": "markdown",
   "id": "de55d00f",
   "metadata": {},
   "source": [
    "### Breakdown of Data from Tables\n",
    "\n",
    "##### Historical prices & sales (SKU × date/time × channel) / Product costs\n",
    "Order Table:\n",
    "- ord_id - Order ID\n",
    "- ord_invoicetaxDate - Tax Date\n",
    "- ord_channelId - Channel ID\n",
    "- ord_orderTypeCode - Type code (used to filter, example: PC or SC is a refund????? Please confirm)\n",
    "\n",
    "Orderline Table:\n",
    "- orl_ord_id - Order ID (Number for overall order)\n",
    "- orl_id - OrderLine ID (Number for orderline, used to show individual lines inside of an order)\n",
    "- orl_productSku - product SKU\n",
    "- orl_productId - Product ID\n",
    "- orl_nominalCode - For filtering (Not needed as a column)\n",
    "- orl_itemCostValue - Cost (cost price for single unit of product)\n",
    "- orl_quantity - Quantity (number of items purchased)\n",
    "- orl_productPriceValue - Price (price of the product at the time the order is placed)\n",
    "- orl_discountPercentage - Discount Percentage (discount percent on row - however not sure if reliable)"
   ]
  },
  {
   "cell_type": "code",
   "execution_count": null,
   "id": "57b667e1",
   "metadata": {},
   "outputs": [],
   "source": [
    "# Imports Libraries"
   ]
  }
 ],
 "metadata": {
  "kernelspec": {
   "display_name": ".venv",
   "language": "python",
   "name": "python3"
  },
  "language_info": {
   "name": "python",
   "version": "3.12.3"
  }
 },
 "nbformat": 4,
 "nbformat_minor": 5
}
